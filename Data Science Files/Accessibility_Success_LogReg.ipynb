{
 "cells": [
  {
   "cell_type": "code",
   "execution_count": 1,
   "id": "6a6c97ac",
   "metadata": {},
   "outputs": [],
   "source": [
    "import numpy as np\n",
    "import pandas as pd\n",
    "import matplotlib.pyplot as plt\n",
    "from scipy import stats\n",
    "from scipy.stats import norm\n",
    "import seaborn as sns\n",
    "import statsmodels.api as sm\n",
    "from sklearn.model_selection import train_test_split\n",
    "from sklearn.metrics import confusion_matrix, ConfusionMatrixDisplay, accuracy_score"
   ]
  },
  {
   "cell_type": "markdown",
   "id": "32d68fab",
   "metadata": {},
   "source": [
    "First, let us estabablish our null hypothesis and our alternate hypothesis.\n",
    "\n",
    "$H_0$: There is no correlation between our independent variables (disabilities which inclusion measures are targeted at) and our dependent variable (change in Stock value)\n",
    "\n",
    "$H_1$:  There is no correlation between our independent variables (disabilities which inclusion measures are targeted at) and our dependent variable (Change in Stock Value)"
   ]
  },
  {
   "cell_type": "markdown",
   "id": "fe705969",
   "metadata": {},
   "source": [
    "For the creation of our logistic regression model on a more developed dataset, it will be important to create a flexible pathway which can drop variables as needed. It is worth noting that, if this script is run as is, it is possible that the model will be affected by unforseen multicolinearity in the data. If this is the case, follow this [shortcut](#Shortcut) and make slight modifications in the script as instructed."
   ]
  },
  {
   "cell_type": "markdown",
   "id": "0b28dac8",
   "metadata": {},
   "source": [
    "Now, let us read in and inspect our dataset."
   ]
  },
  {
   "cell_type": "code",
   "execution_count": 19,
   "id": "ffd33354",
   "metadata": {},
   "outputs": [
    {
     "name": "stdout",
     "output_type": "stream",
     "text": [
      "<class 'pandas.core.frame.DataFrame'>\n",
      "RangeIndex: 20 entries, 0 to 19\n",
      "Data columns (total 17 columns):\n",
      " #   Column            Non-Null Count  Dtype  \n",
      "---  ------            --------------  -----  \n",
      " 0   Company_Name      20 non-null     object \n",
      " 1   Initiative_Name   20 non-null     object \n",
      " 2   Date              20 non-null     object \n",
      " 3   Consumer_driven   20 non-null     int64  \n",
      " 4   Autism            20 non-null     int64  \n",
      " 5   Aging             20 non-null     int64  \n",
      " 6   Deaf              20 non-null     int64  \n",
      " 7   Blind             20 non-null     int64  \n",
      " 8   Speech            20 non-null     int64  \n",
      " 9   Light_sense       20 non-null     int64  \n",
      " 10  Wheelchair        20 non-null     int64  \n",
      " 11  ADHD              20 non-null     int64  \n",
      " 12  Mental_Health     20 non-null     int64  \n",
      " 13  Company_Code      20 non-null     object \n",
      " 14  Initiative_Close  20 non-null     float64\n",
      " 15  Month_Close       20 non-null     float64\n",
      " 16  Success           20 non-null     int64  \n",
      "dtypes: float64(2), int64(11), object(4)\n",
      "memory usage: 2.8+ KB\n"
     ]
    }
   ],
   "source": [
    "df = pd.read_csv('Technology_Services_Accessibility_Initiatives.csv')\n",
    "df.info()"
   ]
  },
  {
   "cell_type": "markdown",
   "id": "026332e5",
   "metadata": {},
   "source": [
    "When importing from our CSV file, most of our columns seem to have converted well. However, our `Date` column is not in the proper datetime64 format. We can resolve this issue using the `to_datetime` method in Pandas."
   ]
  },
  {
   "cell_type": "code",
   "execution_count": 20,
   "id": "a1e3d35a",
   "metadata": {},
   "outputs": [
    {
     "data": {
      "text/plain": [
       "0    2021-12-03\n",
       "1    2021-04-28\n",
       "2    2022-05-17\n",
       "3    2019-12-03\n",
       "4    2022-08-17\n",
       "5    2021-05-20\n",
       "6    2022-08-25\n",
       "7    2019-12-27\n",
       "8    2022-08-15\n",
       "9    2019-09-25\n",
       "10   2022-04-13\n",
       "11   2019-08-22\n",
       "12   2022-05-12\n",
       "13   2021-07-26\n",
       "14   2018-12-06\n",
       "15   2022-10-05\n",
       "16   2014-11-06\n",
       "17   2021-02-12\n",
       "18   2022-08-15\n",
       "19   2022-05-17\n",
       "Name: Date, dtype: datetime64[ns]"
      ]
     },
     "execution_count": 20,
     "metadata": {},
     "output_type": "execute_result"
    }
   ],
   "source": [
    "df['Date'] = pd.to_datetime(df['Date'])\n",
    "df['Date']"
   ]
  },
  {
   "cell_type": "markdown",
   "id": "3be9e1f8",
   "metadata": {},
   "source": [
    "Next, we should inspect our columns to decide which of them should be our X variables and which should be our y variable."
   ]
  },
  {
   "cell_type": "code",
   "execution_count": 4,
   "id": "9791d99e",
   "metadata": {},
   "outputs": [
    {
     "data": {
      "text/plain": [
       "Index(['Company_Name', 'Initiative_Name', 'Date', 'Consumer_driven', 'Autism',\n",
       "       'Aging', 'Deaf', 'Blind', 'Speech', 'Light_sense', 'Wheelchair', 'ADHD',\n",
       "       'Mental_Health', 'Company_Code', 'Initiative_Close', 'Month_Close',\n",
       "       'Success'],\n",
       "      dtype='object')"
      ]
     },
     "execution_count": 4,
     "metadata": {},
     "output_type": "execute_result"
    }
   ],
   "source": [
    "df.columns"
   ]
  },
  {
   "cell_type": "markdown",
   "id": "f9737ee9",
   "metadata": {},
   "source": []
  },
  {
   "cell_type": "code",
   "execution_count": null,
   "id": "23e4a5c9",
   "metadata": {},
   "outputs": [],
   "source": [
    "y_1 = df['Success']\n",
    "y_1"
   ]
  },
  {
   "cell_type": "code",
   "execution_count": 18,
   "id": "ca8535c0",
   "metadata": {},
   "outputs": [
    {
     "name": "stdout",
     "output_type": "stream",
     "text": [
      "<class 'pandas.core.frame.DataFrame'>\n",
      "RangeIndex: 20 entries, 0 to 19\n",
      "Data columns (total 10 columns):\n",
      " #   Column           Non-Null Count  Dtype\n",
      "---  ------           --------------  -----\n",
      " 0   Consumer_driven  20 non-null     int64\n",
      " 1   Autism           20 non-null     int64\n",
      " 2   Aging            20 non-null     int64\n",
      " 3   Deaf             20 non-null     int64\n",
      " 4   Blind            20 non-null     int64\n",
      " 5   Speech           20 non-null     int64\n",
      " 6   Light_sense      20 non-null     int64\n",
      " 7   Wheelchair       20 non-null     int64\n",
      " 8   ADHD             20 non-null     int64\n",
      " 9   Mental_Health    20 non-null     int64\n",
      "dtypes: int64(10)\n",
      "memory usage: 1.7 KB\n"
     ]
    }
   ],
   "source": [
    "X = df[['Consumer_driven', 'Autism', 'Aging', 'Deaf', 'Blind', 'Speech', 'Light_sense',\n",
    "             'Wheelchair', 'ADHD', 'Mental_Health']]\n",
    "X"
   ]
  },
  {
   "cell_type": "code",
   "execution_count": 16,
   "id": "ab8ee0af",
   "metadata": {},
   "outputs": [
    {
     "data": {
      "image/png": "[encoded data removed]",
      "text/plain": [
       "<Figure size 1080x1080 with 1 Axes>"
      ]
     },
     "metadata": {
      "needs_background": "light"
     },
     "output_type": "display_data"
    }
   ],
   "source": [
    "mask = np.triu(X.corr())\n",
    "\n",
    "plt.figure(figsize=(15, 15))\n",
    "sns.heatmap(X.corr(), vmin=-1, vmax=1, annot=True, mask=mask, center=0, cmap='coolwarm', cbar=False)\n",
    "plt.show()"
   ]
  },
  {
   "cell_type": "code",
   "execution_count": null,
   "id": "95115bc9",
   "metadata": {},
   "outputs": [],
   "source": [
    "\"\"\"\n",
    "Multicolinear_Variables = []\n",
    "X = X.drop(Multicolinear_Varliables, axis = 1)\n",
    "\"\"\""
   ]
  },
  {
   "cell_type": "markdown",
   "id": "2c218e45",
   "metadata": {},
   "source": [
    "# Shortcut"
   ]
  },
  {
   "cell_type": "markdown",
   "id": "c494e765",
   "metadata": {},
   "source": [
    "If, on the first time running this model, the \"logit_fitted\" assignment statement below throws an error of some kind, uncomment the above codeblock and refer to to the SNS heatmap visualization above. If two X variables have a high correlation with one another, this means that they may be multicolinear, and could therefore undermine the statistical significance of the independent variable. For this reason, drop at least one variable from each pairing with a high correlation by entering the name of the variable (\"NAME_VARIABLE\") into the list in the `Multicolinear_Variables` assignment statement. Then, rerun the remainder of the notebook."
   ]
  },
  {
   "cell_type": "code",
   "execution_count": null,
   "id": "d37ca6f0",
   "metadata": {},
   "outputs": [],
   "source": [
    "X_train, X_test, y_train, y_test = train_test_split(X, y_1, test_size = 0.25)"
   ]
  },
  {
   "cell_type": "markdown",
   "id": "9314dcb0",
   "metadata": {},
   "source": [
    "Now that we have our train-test split, we should add our constant, instantiate the model, and fit the model on our training dataset."
   ]
  },
  {
   "cell_type": "code",
   "execution_count": 9,
   "id": "d05ee72b",
   "metadata": {},
   "outputs": [
    {
     "name": "stdout",
     "output_type": "stream",
     "text": [
      "Optimization terminated successfully.\n",
      "         Current function value: 0.394896\n",
      "         Iterations 7\n"
     ]
    },
    {
     "data": {
      "text/html": [
       "<table class=\"simpletable\">\n",
       "<caption>Logit Regression Results</caption>\n",
       "<tr>\n",
       "  <th>Dep. Variable:</th>        <td>Success</td>     <th>  No. Observations:  </th>  <td>    20</td> \n",
       "</tr>\n",
       "<tr>\n",
       "  <th>Model:</th>                 <td>Logit</td>      <th>  Df Residuals:      </th>  <td>    15</td> \n",
       "</tr>\n",
       "<tr>\n",
       "  <th>Method:</th>                 <td>MLE</td>       <th>  Df Model:          </th>  <td>     4</td> \n",
       "</tr>\n",
       "<tr>\n",
       "  <th>Date:</th>            <td>Fri, 02 Dec 2022</td> <th>  Pseudo R-squ.:     </th>  <td>0.4132</td> \n",
       "</tr>\n",
       "<tr>\n",
       "  <th>Time:</th>                <td>06:57:44</td>     <th>  Log-Likelihood:    </th> <td> -7.8979</td>\n",
       "</tr>\n",
       "<tr>\n",
       "  <th>converged:</th>             <td>True</td>       <th>  LL-Null:           </th> <td> -13.460</td>\n",
       "</tr>\n",
       "<tr>\n",
       "  <th>Covariance Type:</th>     <td>nonrobust</td>    <th>  LLR p-value:       </th>  <td>0.02520</td>\n",
       "</tr>\n",
       "</table>\n",
       "<table class=\"simpletable\">\n",
       "<tr>\n",
       "       <td></td>         <th>coef</th>     <th>std err</th>      <th>z</th>      <th>P>|z|</th>  <th>[0.025</th>    <th>0.975]</th>  \n",
       "</tr>\n",
       "<tr>\n",
       "  <th>const</th>      <td>   -2.1428</td> <td>    1.452</td> <td>   -1.475</td> <td> 0.140</td> <td>   -4.989</td> <td>    0.704</td>\n",
       "</tr>\n",
       "<tr>\n",
       "  <th>Aging</th>      <td>    1.0900</td> <td>    1.414</td> <td>    0.771</td> <td> 0.441</td> <td>   -1.681</td> <td>    3.861</td>\n",
       "</tr>\n",
       "<tr>\n",
       "  <th>Blind</th>      <td>   -1.1419</td> <td>    1.657</td> <td>   -0.689</td> <td> 0.491</td> <td>   -4.389</td> <td>    2.105</td>\n",
       "</tr>\n",
       "<tr>\n",
       "  <th>Wheelchair</th> <td>    0.3524</td> <td>    1.648</td> <td>    0.214</td> <td> 0.831</td> <td>   -2.878</td> <td>    3.583</td>\n",
       "</tr>\n",
       "<tr>\n",
       "  <th>ADHD</th>       <td>    3.8410</td> <td>    1.608</td> <td>    2.388</td> <td> 0.017</td> <td>    0.689</td> <td>    6.993</td>\n",
       "</tr>\n",
       "</table>"
      ],
      "text/plain": [
       "<class 'statsmodels.iolib.summary.Summary'>\n",
       "\"\"\"\n",
       "                           Logit Regression Results                           \n",
       "==============================================================================\n",
       "Dep. Variable:                Success   No. Observations:                   20\n",
       "Model:                          Logit   Df Residuals:                       15\n",
       "Method:                           MLE   Df Model:                            4\n",
       "Date:                Fri, 02 Dec 2022   Pseudo R-squ.:                  0.4132\n",
       "Time:                        06:57:44   Log-Likelihood:                -7.8979\n",
       "converged:                       True   LL-Null:                       -13.460\n",
       "Covariance Type:            nonrobust   LLR p-value:                   0.02520\n",
       "==============================================================================\n",
       "                 coef    std err          z      P>|z|      [0.025      0.975]\n",
       "------------------------------------------------------------------------------\n",
       "const         -2.1428      1.452     -1.475      0.140      -4.989       0.704\n",
       "Aging          1.0900      1.414      0.771      0.441      -1.681       3.861\n",
       "Blind         -1.1419      1.657     -0.689      0.491      -4.389       2.105\n",
       "Wheelchair     0.3524      1.648      0.214      0.831      -2.878       3.583\n",
       "ADHD           3.8410      1.608      2.388      0.017       0.689       6.993\n",
       "==============================================================================\n",
       "\"\"\""
      ]
     },
     "execution_count": 9,
     "metadata": {},
     "output_type": "execute_result"
    }
   ],
   "source": [
    "# 0. ADD A CONSTANT\n",
    "X_train_const = sm.add_constant(X_2)\n",
    "\n",
    "# 1. Instantiate\n",
    "success_logit = sm.Logit(y_train, X_train_const)\n",
    "\n",
    "# 2. Fit\n",
    "logit_fitted = success_logit.fit(maxiter=10000) #Fitting a logistic regression is typically not very\n",
    "# computationally expensive, so \n",
    "\n",
    "# 3. Summarize the model performance\n",
    "logit_fitted.summary()"
   ]
  },
  {
   "cell_type": "markdown",
   "id": "ff82d0b4",
   "metadata": {},
   "source": [
    "Once our model has run smoothly, we now must decide whether we wish to accept the null hypothesis ($H0$) or whether we will reject it in favor of the alternate hypothetis ($H1$). If we choose to accept the null hypothesis, then our modeling is over. If not, then we can proceed on to creating our predictions given our X variables in the testing set."
   ]
  },
  {
   "cell_type": "code",
   "execution_count": null,
   "id": "cd67cf58",
   "metadata": {},
   "outputs": [],
   "source": [
    "y_pred = logit_fitted.predict(X_test)"
   ]
  },
  {
   "cell_type": "markdown",
   "id": "d737ec86",
   "metadata": {},
   "source": [
    "Now, we can use the `accuracy_score` metric in sklearn to see how well our predictions held up. Since our accuracy will, by default, be returned as a <=1 float, however, we will need to multiply it by 100 to convert it to a percentage."
   ]
  },
  {
   "cell_type": "code",
   "execution_count": null,
   "id": "d040a6b3",
   "metadata": {},
   "outputs": [],
   "source": [
    "accuracy_percentage = accuracy_score(y_test, y_pred)*100\n",
    "accuracy_percentage"
   ]
  },
  {
   "cell_type": "markdown",
   "id": "2b329542",
   "metadata": {},
   "source": [
    "Finally, we can create and visualize a confusion matrix using funtionalities in sklearn in order to discover what portions of our data our model did best or worst at."
   ]
  },
  {
   "cell_type": "code",
   "execution_count": null,
   "id": "5c467a42",
   "metadata": {},
   "outputs": [],
   "source": [
    "Confusion = confusion_matrix(y_test,y_pred, labels = [\"Failure\",\"Success\"])"
   ]
  },
  {
   "cell_type": "code",
   "execution_count": null,
   "id": "0e6614c9",
   "metadata": {},
   "outputs": [],
   "source": [
    "ConfusionMatrixDisplay(Confusion, display_labels = labels)"
   ]
  }
 ],
 "metadata": {
  "kernelspec": {
   "display_name": "Python 3 (ipykernel)",
   "language": "python",
   "name": "python3"
  },
  "language_info": {
   "codemirror_mode": {
    "name": "ipython",
    "version": 3
   },
   "file_extension": ".py",
   "mimetype": "text/x-python",
   "name": "python",
   "nbconvert_exporter": "python",
   "pygments_lexer": "ipython3",
   "version": "3.9.12"
  }
 },
 "nbformat": 4,
 "nbformat_minor": 5
}
